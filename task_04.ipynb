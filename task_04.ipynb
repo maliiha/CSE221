{
  "nbformat": 4,
  "nbformat_minor": 0,
  "metadata": {
    "colab": {
      "provenance": [],
      "authorship_tag": "ABX9TyP+G6mfmYGlLcMvhI9kyKev",
      "include_colab_link": true
    },
    "kernelspec": {
      "name": "python3",
      "display_name": "Python 3"
    },
    "language_info": {
      "name": "python"
    }
  },
  "cells": [
    {
      "cell_type": "markdown",
      "metadata": {
        "id": "view-in-github",
        "colab_type": "text"
      },
      "source": [
        "<a href=\"https://colab.research.google.com/github/maliiha/CSE221/blob/main/task_04.ipynb\" target=\"_parent\"><img src=\"https://colab.research.google.com/assets/colab-badge.svg\" alt=\"Open In Colab\"/></a>"
      ]
    },
    {
      "cell_type": "code",
      "execution_count": null,
      "metadata": {
        "id": "jlIpZYON9M_v"
      },
      "outputs": [],
      "source": [
        "test_file= open('/content/input4.txt', 'r')\n",
        "result_file= open('/content/output4.txt', 'w')\n",
        "first_line= int(test_file.readline())\n",
        "train = []\n",
        "details = {}\n",
        "for i in range(first_line):\n",
        "    t = test_file.readline().split(\" \")\n",
        "    tm = t[6].split(\":\")\n",
        "    time = tm[0] + tm[1][:-1]\n",
        "    if t[0] not in details:\n",
        "        details[t[0]] = [t[4]]\n",
        "    else:\n",
        "        details[t[0]] += [t[4]]\n",
        "    details[t[0]] += [time]\n",
        "    train += [t[0]]\n",
        "def selection_Sort(arr):\n",
        "    n = len(arr)\n",
        "    for i in range(n-1):\n",
        "        for j in range(i, n-1):\n",
        "            if arr[i] > arr[j+1]:\n",
        "                temp = arr[i]\n",
        "                arr[i] = arr[j+1]\n",
        "                arr[j+1] = temp\n",
        "    return arr\n",
        "train_s = selection_Sort(train)\n",
        "check = []\n",
        "for i in train_s:\n",
        "    max_time = details[i][1]\n",
        "    place = details[i][0]\n",
        "    for j in range(1, len(details[i]), 2):\n",
        "        if max_time < details[i][j]:\n",
        "            max_time = details[i][j]\n",
        "            place = details[i][j-1]\n",
        "    print(f\"{i} will departure for {place} at {max_time[:2]}:{max_time[2:]} \", file = result_file)\n",
        "    details[i].remove(max_time)\n",
        "    details[i].remove(place)\n",
        "result_file.close()"
      ]
    }
  ]
}