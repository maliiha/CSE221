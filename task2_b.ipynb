{
  "nbformat": 4,
  "nbformat_minor": 0,
  "metadata": {
    "colab": {
      "provenance": [],
      "authorship_tag": "ABX9TyO3E4N44Bpr8ruy8smdnLF2",
      "include_colab_link": true
    },
    "kernelspec": {
      "name": "python3",
      "display_name": "Python 3"
    },
    "language_info": {
      "name": "python"
    }
  },
  "cells": [
    {
      "cell_type": "markdown",
      "metadata": {
        "id": "view-in-github",
        "colab_type": "text"
      },
      "source": [
        "<a href=\"https://colab.research.google.com/github/maliiha/CSE221/blob/main/task2_b.ipynb\" target=\"_parent\"><img src=\"https://colab.research.google.com/assets/colab-badge.svg\" alt=\"Open In Colab\"/></a>"
      ]
    },
    {
      "cell_type": "code",
      "source": [
        "test_file=open('/content/input2(b).txt',mode ='r')\n",
        "first_line=int(test_file.readline())\n",
        "list1=list(map(int,test_file.readline().strip().split()))\n",
        "second_line=int(test_file.readline())\n",
        "list2=list(map(int,test_file.readline().strip().split()))\n",
        "i=0\n",
        "j=0\n",
        "list3=[]\n",
        "while i<first_line and j<second_line:\n",
        "   if list1[i]<list2[j]:\n",
        "      list3.append(list1[i])\n",
        "      i=i+1\n",
        "   elif list2[j]<list1[i]:\n",
        "      list3.append(list2[j])\n",
        "      j=j+1\n",
        "if i<j:\n",
        "  list3.extend(list1[i::])\n",
        "elif j<i:\n",
        "  list3.extend(list2[j::])\n",
        "elif i==j:\n",
        "  if len(list1)-i!=0:\n",
        "      list3.extend(list1[i::])\n",
        "  if len(list2)-j!=0:\n",
        "      list3.extend(list2[j::])\n",
        "\n",
        "file1 = '/content/output2(b).txt'\n",
        "with open(file1, mode = \"w\") as file:\n",
        "    file.write(str(list3))"
      ],
      "metadata": {
        "id": "hdXV07uv-QvW"
      },
      "execution_count": null,
      "outputs": []
    }
  ]
}