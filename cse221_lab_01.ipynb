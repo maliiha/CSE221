{
  "nbformat": 4,
  "nbformat_minor": 0,
  "metadata": {
    "colab": {
      "provenance": [],
      "authorship_tag": "ABX9TyO5QKtI5exVzjh87apyxlWP",
      "include_colab_link": true
    },
    "kernelspec": {
      "name": "python3",
      "display_name": "Python 3"
    },
    "language_info": {
      "name": "python"
    }
  },
  "cells": [
    {
      "cell_type": "markdown",
      "metadata": {
        "id": "view-in-github",
        "colab_type": "text"
      },
      "source": [
        "<a href=\"https://colab.research.google.com/github/maliiha/CSE221/blob/main/cse221_lab_01.ipynb\" target=\"_parent\"><img src=\"https://colab.research.google.com/assets/colab-badge.svg\" alt=\"Open In Colab\"/></a>"
      ]
    },
    {
      "cell_type": "markdown",
      "source": [
        "TASK:01 (a)"
      ],
      "metadata": {
        "id": "JLRO3ChOd8GX"
      }
    },
    {
      "cell_type": "code",
      "source": [
        "test_file=open('/content/input1a.txt',mode='r')\n",
        "result_file=open('/content/output1a.txt', mode='w')\n",
        "first_line=int(test_file.readline())\n",
        "for i in range(first_line):\n",
        "    x=int(test_file.readline())\n",
        "    if x%2==0:\n",
        "        print(f'{x} is an Even number.',file=result_file)\n",
        "    else:\n",
        "        print(f'{x} is an Odd number.',file=result_file)\n",
        "\n",
        "result_file.close()"
      ],
      "metadata": {
        "id": "D3I4__Q1d8h-"
      },
      "execution_count": 2,
      "outputs": []
    },
    {
      "cell_type": "markdown",
      "source": [
        "TASK:01 (b)"
      ],
      "metadata": {
        "id": "0PbvFtuwhDLS"
      }
    },
    {
      "cell_type": "code",
      "source": [
        "test_file=open('/content/input1b.txt',mode ='r')\n",
        "result_file=open('/content/output1b.txt',mode ='w')\n",
        "first_line=int(test_file.readline())\n",
        "for i in range(first_line):\n",
        "   x=test_file.readline().strip()\n",
        "   lst=x.split(' ')\n",
        "   num1=int(lst[1])\n",
        "   num2=int(lst[3])\n",
        "   op=lst[2]\n",
        "   if op=='+':\n",
        "      rslt=num1+num2\n",
        "      result_file.write(f'the result of {str(lst[1])} {str(lst[2])} {str(lst[3])} is {str(rslt)}\\n')\n",
        "   if op=='-':\n",
        "      rslt=num1-num2\n",
        "      result_file.write(f'the result of {str(lst[1])} {str(lst[2])} {str(lst[3])} is {str(rslt)}\\n')\n",
        "   if op=='*':\n",
        "      rslt=num1*num2\n",
        "      result_file.write(f'the result of {str(lst[1])} {str(lst[2])} {str(lst[3])} is {str(rslt)}\\n')\n",
        "   if op=='/':\n",
        "      rslt=num1/num2\n",
        "      result_file.write(f'the result of {str(lst[1])} {str(lst[2])} {str(lst[3])} is {str(rslt)}\\n')\n",
        "result_file.close()"
      ],
      "metadata": {
        "id": "3NLlRU-XhHJ6"
      },
      "execution_count": 6,
      "outputs": []
    },
    {
      "cell_type": "markdown",
      "source": [
        "TASK:02 (a)"
      ],
      "metadata": {
        "id": "lrrw8uCNj6q0"
      }
    },
    {
      "cell_type": "code",
      "source": [
        "def fibonacci_1(n): \n",
        "    if n < 0: \n",
        "        print(\"Invalid input!\") \n",
        "    elif n <= 1: \n",
        "        return n \n",
        "    else: \n",
        "        return fibonacci_1(n-1)+fibonacci_1(n-2) \n",
        " \n",
        "n = int(input(\"First method fibonacci: \")) \n",
        "nth_fib = fibonacci_1(n) \n",
        "print(\"The {} th fibonacci number is {}.\".format(n, nth_fib))\n",
        "\n",
        "def fibonacci_2(n):\n",
        "    if n<0:\n",
        "        return \"Invalid Input\"  \n",
        "    if n<=1:\n",
        "        return n\n",
        "    fib = [0] * (n+1)\n",
        "    fib[0] = 0\n",
        "    fib[1] = 1\n",
        "    for i in range(2,n+1): \n",
        "        fib[i] = fib[i-1] + fib[i-2]\n",
        "    return fib[n]\n",
        " \n",
        "n = int(input(\"Second method fibonacci: \")) \n",
        "nth_fib = fibonacci_2(n)\n",
        "print(\"The {} th fibonacci number is {}.\".format(n, nth_fib))\n",
        "\n",
        "\n",
        "import time \n",
        "import math \n",
        "import matplotlib.pyplot as plt \n",
        "import numpy as np \n",
        "\n",
        "\n",
        "#change the value of n for your own experimentation \n",
        "n = 30 \n",
        "x = [i for i in range(n)] \n",
        "y = [0 for i in range(n)] \n",
        "z = [0 for i in range(n)] \n",
        "for i in range(n-1):\n",
        "  start = time.time() \n",
        "  fibonacci_1(x[i+1]) \n",
        "  y[i+1]= time.time()-start \n",
        "  start = time.time() \n",
        "  fibonacci_2(x[i+1]) \n",
        "  z[i+1]= time.time()-start \n",
        "\n",
        "\n",
        "x_interval = math.ceil(n/10) \n",
        "plt.plot(x, y, 'r') \n",
        "plt.plot(x, z, 'b') \n",
        "plt.xticks(np.arange(min(x), max(x)+1, x_interval)) \n",
        "plt.xlabel('n-th position') \n",
        "plt.ylabel('time') \n",
        "plt.title('Comparing Time Complexity!') \n",
        "plt.show()"
      ],
      "metadata": {
        "colab": {
          "base_uri": "https://localhost:8080/",
          "height": 364
        },
        "id": "IVidMys7j-v3",
        "outputId": "289e614a-0cd3-4b97-9efa-3941627c84d1"
      },
      "execution_count": 10,
      "outputs": [
        {
          "output_type": "stream",
          "name": "stdout",
          "text": [
            "First method fibonacci: 30\n",
            "The 30 th fibonacci number is 832040.\n",
            "Second method fibonacci: 30\n",
            "The 30 th fibonacci number is 832040.\n"
          ]
        },
        {
          "output_type": "display_data",
          "data": {
            "text/plain": [
              "<Figure size 432x288 with 1 Axes>"
            ],
            "image/png": "[encoded data removed]"
          },
          "metadata": {
            "needs_background": "light"
          }
        }
      ]
    },
    {
      "cell_type": "markdown",
      "source": [
        "TASK:03"
      ],
      "metadata": {
        "id": "5cGcHEs1oMZ-"
      }
    },
    {
      "cell_type": "code",
      "source": [
        "def bubbleSort(arr):\n",
        "    for i in range(len(arr)-1):\n",
        "        swap=0\n",
        "        for j in range(len(arr)-i-1): \n",
        "            if arr[j] > arr[j+1]:\n",
        "                arr[j], arr[j+1] = arr[j+1], arr[j]\n",
        "                swap+=1\n",
        "        if swap==0:\n",
        "           break\n",
        "    return arr\n",
        "\n",
        "test_file=open('/content/input3.txt',mode='r')\n",
        "n=int(test_file.readline())\n",
        "list1=list(map(int,test_file.readline().split(' ')))\n",
        "result_file=open('/content/output3.txt',mode='w')\n",
        "sort_list=bubbleSort(list1)            \n",
        "for i in sort_list:\n",
        "   x=str(i)+' '\n",
        "   result_file.write(x)\n",
        "result_file.close()"
      ],
      "metadata": {
        "id": "Q_jXFeIuoNi2"
      },
      "execution_count": 13,
      "outputs": []
    }
  ]
}