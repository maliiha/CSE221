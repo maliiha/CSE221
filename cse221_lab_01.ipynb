{
  "nbformat": 4,
  "nbformat_minor": 0,
  "metadata": {
    "colab": {
      "provenance": [],
      "authorship_tag": "ABX9TyMgUx3o6HDqchGzuUCkeP1I",
      "include_colab_link": true
    },
    "kernelspec": {
      "name": "python3",
      "display_name": "Python 3"
    },
    "language_info": {
      "name": "python"
    }
  },
  "cells": [
    {
      "cell_type": "markdown",
      "metadata": {
        "id": "view-in-github",
        "colab_type": "text"
      },
      "source": [
        "<a href=\"https://colab.research.google.com/github/maliiha/CSE221/blob/main/cse221_lab_01.ipynb\" target=\"_parent\"><img src=\"https://colab.research.google.com/assets/colab-badge.svg\" alt=\"Open In Colab\"/></a>"
      ]
    },
    {
      "cell_type": "markdown",
      "source": [
        "TASK:01 (a)"
      ],
      "metadata": {
        "id": "JLRO3ChOd8GX"
      }
    },
    {
      "cell_type": "code",
      "source": [
        "test_file=open('/content/input1a.txt',mode='r')\n",
        "result_file=open('/content/output1a.txt', mode='w')\n",
        "first_line=int(test_file.readline())\n",
        "for i in range(first_line):\n",
        "    x=int(test_file.readline())\n",
        "    if x%2==0:\n",
        "        print(f'{x} is an Even number.',file=result_file)\n",
        "    else:\n",
        "        print(f'{x} is an Odd number.',file=result_file)\n",
        "\n",
        "result_file.close()"
      ],
      "metadata": {
        "id": "D3I4__Q1d8h-"
      },
      "execution_count": 2,
      "outputs": []
    }
  ]
}