{
  "nbformat": 4,
  "nbformat_minor": 0,
  "metadata": {
    "colab": {
      "provenance": [],
      "authorship_tag": "ABX9TyPjHf1H42SQiChkEYL2tjeI",
      "include_colab_link": true
    },
    "kernelspec": {
      "name": "python3",
      "display_name": "Python 3"
    },
    "language_info": {
      "name": "python"
    }
  },
  "cells": [
    {
      "cell_type": "markdown",
      "metadata": {
        "id": "view-in-github",
        "colab_type": "text"
      },
      "source": [
        "<a href=\"https://colab.research.google.com/github/maliiha/CSE221/blob/main/CSE221_LAB06.ipynb\" target=\"_parent\"><img src=\"https://colab.research.google.com/assets/colab-badge.svg\" alt=\"Open In Colab\"/></a>"
      ]
    },
    {
      "cell_type": "markdown",
      "source": [
        "TASK:01"
      ],
      "metadata": {
        "id": "UVxAKMnvu-Oy"
      }
    },
    {
      "cell_type": "code",
      "source": [
        "test_file = open(\"/content/input1.txt\" , mode = \"r\")\n",
        "result_file = open(\"/content/output1.txt\" , mode = \"w\")\n",
        "\n",
        "test_file.close()\n",
        "result_file.close()"
      ],
      "metadata": {
        "id": "i1cB1IKIu-Z2"
      },
      "execution_count": null,
      "outputs": []
    }
  ]
}