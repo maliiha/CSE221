{
  "nbformat": 4,
  "nbformat_minor": 0,
  "metadata": {
    "colab": {
      "provenance": [],
      "authorship_tag": "ABX9TyMJD8TMutld5/s+mDuD3wTw",
      "include_colab_link": true
    },
    "kernelspec": {
      "name": "python3",
      "display_name": "Python 3"
    },
    "language_info": {
      "name": "python"
    }
  },
  "cells": [
    {
      "cell_type": "markdown",
      "metadata": {
        "id": "view-in-github",
        "colab_type": "text"
      },
      "source": [
        "<a href=\"https://colab.research.google.com/github/maliiha/CSE221/blob/main/CSE221_LAB06.ipynb\" target=\"_parent\"><img src=\"https://colab.research.google.com/assets/colab-badge.svg\" alt=\"Open In Colab\"/></a>"
      ]
    },
    {
      "cell_type": "markdown",
      "source": [
        "TASK:01"
      ],
      "metadata": {
        "id": "UVxAKMnvu-Oy"
      }
    },
    {
      "cell_type": "code",
      "source": [
        "test_file = open(\"/content/input1.txt\" , mode = \"r\")\n",
        "result_file = open(\"/content/output1.txt\" , mode = \"w\")\n",
        "n , m = map(int,test_file.readline().split(\" \"))\n",
        "list1 = [[-1] * n for i in range(n)]\n",
        "for j in range(m):\n",
        "  u , v, w = map(int,test_file.readline().split(\" \"))\n",
        "  list1[u-1][v-1] = w\n",
        "src = int(test_file.readline())-1\n",
        "distance = [float(\"infinity\")] * n\n",
        "distance[src] = 0\n",
        "visit = [False] * n\n",
        "for a in range(n):\n",
        "  minimum_distance = float(\"infinity\")\n",
        "  minimum_node = -1\n",
        "  for b in range(n):\n",
        "    if(visit[b] == False and distance[b] < minimum_distance):\n",
        "      minimum_distance = distance[b]\n",
        "      minimum_node = b\n",
        "  if (minimum_node == -1):\n",
        "    break\n",
        "  visit[minimum_node] = True\n",
        "  for k in range(n):\n",
        "    if(list1[minimum_node][k] != -1):\n",
        "      n_distance = distance[minimum_node] + list1[minimum_node][k]\n",
        "      if(n_distance < distance[k]):\n",
        "        distance[k] = n_distance\n",
        "for c in range(n):\n",
        "  if(distance[c] == float(\"infinity\")):\n",
        "    print(\"-1\" , end =\" \",file = result_file)\n",
        "  else:\n",
        "    print(distance[c] , end =\" \", file = result_file)\n",
        "test_file.close()\n",
        "result_file.close()"
      ],
      "metadata": {
        "id": "i1cB1IKIu-Z2"
      },
      "execution_count": null,
      "outputs": []
    },
    {
      "cell_type": "markdown",
      "source": [
        "TASK:02"
      ],
      "metadata": {
        "id": "01NTU3XfihC_"
      }
    },
    {
      "cell_type": "code",
      "source": [
        "test_file = open(\"/content/input2.txt\" , mode = \"r\")\n",
        "result_file = open(\"/content/output2.txt\" , mode = \"w\")\n",
        "n , m = map(int, test_file.readline().split(\" \"))\n",
        "list1 = [[] for i in range(n)]\n",
        "for j in range(m):\n",
        "  u , v , w = map(int, test_file.readline().split(\" \"))\n",
        "  list1[u -1].append((v -1 , w))\n",
        "s , t = map(int,test_file.readline().split(\" \"))\n",
        "s = s - 1\n",
        "t = t - 1 \n",
        "distance1 = [float(\"infinity\")]*n\n",
        "distance1[s] = 0\n",
        "visit = [ False ] * n\n",
        "for i in range(n):\n",
        "  minimum_distance1 = -1\n",
        "  for k in range(n):\n",
        "    if(visit[k] == False and (minimum_distance1 == -1 or distance1[k] < distance1[minimum_distance1])):\n",
        "      minimum_distance1 = k\n",
        "  if (distance1[minimum_distance1] == float(\"infinity\")):\n",
        "    break\n",
        "  visit[minimum_distance1] = True\n",
        "  for a , b in list1[minimum_distance1]:\n",
        "    if ( distance1[minimum_distance1] + b < distance1[a]):\n",
        "      distance1[a] = distance1[minimum_distance1] + b\n",
        "distance2 = [float(\"infinity\")] * n\n",
        "distance2[t] = 0\n",
        "visit = [False] * n\n",
        "for x in range(n):\n",
        "  minimum_distance2 = -1\n",
        "  for i in range(n) :\n",
        "    if( not visit[i] and (minimum_distance2 == -1 or distance2[i] < distance2[minimum_distance2])):\n",
        "      minimum_distance2 = i\n",
        "  if (distance2[minimum_distance2] == float(\"infinity\")):\n",
        "    break\n",
        "  visit[minimum_distance2] = True\n",
        "  for a , b in list1[minimum_distance2]:\n",
        "    if(distance2[minimum_distance2] + b < distance2[a]):\n",
        "      distance2[a] = distance2[minimum_distance2] + b\n",
        "minimum_time = float(\"infinity\")\n",
        "visited = -1\n",
        "for k in range(n):\n",
        "  if(distance1[k] != float(\"infinity\") and distance2[k] != float(\"infinity\")):\n",
        "    visited = max(distance1[k] , distance2[k])\n",
        "    if(visited < minimum_time ):\n",
        "      minimum_time = visited\n",
        "      visited = k\n",
        "if(minimum_time == float(\"inf\")):\n",
        "  print(\"Impossible\" , file = result_file)\n",
        "else:\n",
        "  print(\"Time\", minimum_time,\"\\nNode\" , visited+1, file = result_file)\n",
        "test_file.close()\n",
        "result_file.close()   #eitar input 3 er jonno kaaj kore na code. output bhul ashe"
      ],
      "metadata": {
        "id": "CtK5pL8piiEY"
      },
      "execution_count": 14,
      "outputs": []
    },
    {
      "cell_type": "markdown",
      "source": [
        "TASK:03"
      ],
      "metadata": {
        "id": "C4rvxXWiy5sV"
      }
    },
    {
      "cell_type": "code",
      "source": [
        "test_file = open(\"/content/input3.txt\" , mode = \"r\")\n",
        "result_file = open(\"/content/output3.txt\" , mode = \"w\")\n",
        "n , m = map(int, test_file.readline().split(\" \"))\n",
        "list1 = [[] for i in range(n)]\n",
        "for j in range(m):\n",
        "  u , v , w = map(int, test_file.readline().split(\" \"))\n",
        "  list1[u -1].append((v -1 , w))\n",
        "distance = [float(\"infinity\")] * n\n",
        "distance[0] = 0\n",
        "visit = [False] * n\n",
        "for k in range(n):\n",
        "  minimum_distance = float(\"infinity\")\n",
        "  minimum_node = None\n",
        "  for i in range(n):\n",
        "    if(visit[i] == False and distance[i] < minimum_distance):\n",
        "      minimum_distance = distance[i]\n",
        "      minimum_node = i\n",
        "  if (minimum_node is None):\n",
        "    if(any(visit) == True):\n",
        "      print(\"Impossible\" , file = result_file)\n",
        "    break\n",
        "  if (minimum_node == n -1):\n",
        "    print(minimum_distance,file = result_file)\n",
        "    break\n",
        "  visit[minimum_node] = True\n",
        "  for a , b in list1[minimum_node]:\n",
        "    d = max(minimum_distance , b)\n",
        "    if(d< distance[a]):\n",
        "      distance[a] = d\n",
        "if (minimum_node != n-1):\n",
        "  if(any(visit) == False):\n",
        "    print(\"Impossible\",file = result_file)\n",
        "test_file.close()\n",
        "result_file.close()"
      ],
      "metadata": {
        "id": "sPbQKQZ7y63p"
      },
      "execution_count": 12,
      "outputs": []
    }
  ]
}