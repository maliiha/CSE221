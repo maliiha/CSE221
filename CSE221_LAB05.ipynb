{
  "nbformat": 4,
  "nbformat_minor": 0,
  "metadata": {
    "colab": {
      "provenance": [],
      "authorship_tag": "ABX9TyOgdQlHJL0d1gYSgSeXR7fh",
      "include_colab_link": true
    },
    "kernelspec": {
      "name": "python3",
      "display_name": "Python 3"
    },
    "language_info": {
      "name": "python"
    }
  },
  "cells": [
    {
      "cell_type": "markdown",
      "metadata": {
        "id": "view-in-github",
        "colab_type": "text"
      },
      "source": [
        "<a href=\"https://colab.research.google.com/github/maliiha/CSE221/blob/main/CSE221_LAB05.ipynb\" target=\"_parent\"><img src=\"https://colab.research.google.com/assets/colab-badge.svg\" alt=\"Open In Colab\"/></a>"
      ]
    },
    {
      "cell_type": "markdown",
      "source": [
        "task:01 (a)"
      ],
      "metadata": {
        "id": "2Voxps7lGWTc"
      }
    },
    {
      "cell_type": "code",
      "source": [
        "inp = open('input1_a.txt', mode ='r')\n",
        "out = open('output1_a.txt',mode = 'w')\n",
        "first, second = map(int, inp.readline().strip().split(\" \"))\n",
        "matrix = []\n",
        "for i in range(first+1):\n",
        "    list1 = [0]*(first+1)\n",
        "    matrix.append(list1)\n",
        "\n",
        "for j in range(second):\n",
        "    n1, n2, w = map(int, inp.readline().strip().split(\" \"))\n",
        "    matrix[n1][n2] = w\n",
        "    \n",
        "for k in matrix:\n",
        "    lst = \"\"\n",
        "    for p in range(first+1):\n",
        "        lst += str(k[p]) + \" \"\n",
        "    print(lst, file = out)\n",
        "    \n",
        "\n",
        "inp.close()\n",
        "out.close()"
      ],
      "metadata": {
        "id": "0pVHpVvOGXP6"
      },
      "execution_count": 4,
      "outputs": []
    },
    {
      "cell_type": "markdown",
      "source": [
        "task:01 (b)"
      ],
      "metadata": {
        "id": "tL7Xv9UuHXUe"
      }
    },
    {
      "cell_type": "code",
      "source": [
        "inp = open('input1_b.txt','r')\n",
        "out = open('output1_b.txt','w')\n",
        "n, m = map(int, inp.readline().strip().split(\" \"))\n",
        "\n",
        "adjList = []\n",
        "for i in range(n+1):\n",
        "    adjList.append([])\n",
        "\n",
        "for j in range(m):\n",
        "    n1, n2, w = map(int, inp.readline().strip().split(\" \"))\n",
        "    adjList[n1] += [(n2, w)]\n",
        "    \n",
        "for k in range(n+1):\n",
        "    lst = str(k) + \" \" + \": \"\n",
        "    for p in adjList[k]:\n",
        "        lst += f\"{p} \"\n",
        "    print(lst, file = out)\n",
        "    \n",
        "inp.close()\n",
        "out.close()"
      ],
      "metadata": {
        "id": "WWHK7tDQHZI3"
      },
      "execution_count": 5,
      "outputs": []
    },
    {
      "cell_type": "markdown",
      "source": [
        "task:02"
      ],
      "metadata": {
        "id": "JDX7E0RKH6tG"
      }
    },
    {
      "cell_type": "code",
      "source": [
        "inp = open('input2.txt','r')\n",
        "out = open('output2.txt','w')\n",
        "n, m = map(int, inp.readline().strip().split(\" \"))\n",
        "\n",
        "adjList = []\n",
        "for i in range(n+1):\n",
        "    adjList.append([])\n",
        "\n",
        "for j in range(m):\n",
        "    n1, n2 = map(int, inp.readline().strip().split(\" \"))\n",
        "    adjList[n1] += [n2]\n",
        "    adjList[n2] += [n1]\n",
        "\n",
        "def BFS(adjL, s):\n",
        "    queue = []\n",
        "    visited = [0]*len(adjL)\n",
        "    dequeue = []\n",
        "    queue.append(s)\n",
        "    visited[s] = 1\n",
        "    while len(queue)!=0:\n",
        "       node = queue.pop(0)\n",
        "       dequeue.append(node)\n",
        "       for i in range(len(adjL[node])):\n",
        "           if visited[adjL[node][i]] == 0:\n",
        "               visited[adjL[node][i]] = 1\n",
        "               queue.append(adjL[node][i])\n",
        "    return dequeue\n",
        "    \n",
        "bfsList = BFS(adjList, 1)\n",
        "\n",
        "for i in range(len(bfsList)):\n",
        "    if i <= len(bfsList) - 1:\n",
        "        print(bfsList[i], end = \" \", file = out)\n",
        "    else:\n",
        "        print(bfsList[i], file = out)\n",
        "        \n",
        "inp.close()\n",
        "out.close()"
      ],
      "metadata": {
        "id": "qJ3wAwSmH7zj"
      },
      "execution_count": 6,
      "outputs": []
    },
    {
      "cell_type": "markdown",
      "source": [
        "task:03"
      ],
      "metadata": {
        "id": "-n0Jcok9IvZ7"
      }
    },
    {
      "cell_type": "code",
      "source": [
        "inp = open('input3.txt','r')\n",
        "out = open('output3.txt','w')\n",
        "n, m = map(int, inp.readline().strip().split(\" \"))\n",
        "\n",
        "adjList = []\n",
        "for i in range(n+1):\n",
        "    adjList.append([])\n",
        "\n",
        "for j in range(m):\n",
        "    n1, n2 = map(int, inp.readline().strip().split(\" \"))\n",
        "    adjList[n1] += [n2]\n",
        "    adjList[n2] += [n1]\n",
        "    \n",
        "def DFS(adjL, s):\n",
        "    stack = []\n",
        "    # visited = [0]*len(adjL)\n",
        "    dfs = []\n",
        "    stack.append(s)\n",
        "    dfs.append(s)\n",
        "    while len(stack) != 0:\n",
        "        i = 0\n",
        "        while i <= (len(adjL[stack[-1]]))-1:\n",
        "            if adjL[stack[-1]][i] not in dfs:\n",
        "                dfs.append(adjL[stack[-1]][i])\n",
        "                stack.append(adjL[stack[-1]][i])\n",
        "                i = 0\n",
        "            else:\n",
        "                i += 1\n",
        "        stack.pop(-1)\n",
        "    return dfs\n",
        "                \n",
        "dfsList = DFS(adjList, 1)\n",
        "\n",
        "for i in range(len(dfsList)):\n",
        "    if i <= len(dfsList) - 1:\n",
        "        print(dfsList[i], end = \" \", file = out)\n",
        "    else:\n",
        "        print(dfsList[i], file = out)\n",
        "\n",
        "inp.close()\n",
        "out.close()"
      ],
      "metadata": {
        "id": "xuasFlwlIvmB"
      },
      "execution_count": 7,
      "outputs": []
    },
    {
      "cell_type": "markdown",
      "source": [
        "task:04"
      ],
      "metadata": {
        "id": "0mVkFJDKJaT1"
      }
    },
    {
      "cell_type": "code",
      "source": [
        "inp = open('input4.txt','r')\n",
        "out = open('output4.txt','w')\n",
        "n, m = map(int, inp.readline().strip().split(\" \"))\n",
        "\n",
        "adjList = []\n",
        "for i in range(n+1):\n",
        "    adjList.append([])\n",
        "\n",
        "for j in range(m):\n",
        "    n1, n2 = map(int, inp.readline().strip().split(\" \"))\n",
        "    adjList[n1] += [n2]\n",
        "\n",
        "def findCycle(adjL, s):\n",
        "    stack = []\n",
        "    dfs = []\n",
        "    stack.append(s)\n",
        "    dfs.append(s)\n",
        "    while len(stack) != 0:\n",
        "        i = 0\n",
        "        while i <= (len(adjL[stack[-1]]))-1:\n",
        "            if adjL[stack[-1]][i] not in dfs:\n",
        "                dfs.append(adjL[stack[-1]][i])\n",
        "                stack.append(adjL[stack[-1]][i])\n",
        "                i = 0\n",
        "            elif adjL[stack[-1]][i] in stack:\n",
        "                return \"YES\"\n",
        "            else:\n",
        "                i += 1\n",
        "        stack.pop(-1)\n",
        "    return \"NO\"\n",
        "                \n",
        "isCycle = findCycle(adjList, 1)\n",
        "print(isCycle, file = out)\n",
        "        \n",
        "inp.close()\n",
        "out.close()\n"
      ],
      "metadata": {
        "id": "bZ3Xy_SJJabV"
      },
      "execution_count": 10,
      "outputs": []
    },
    {
      "cell_type": "markdown",
      "source": [
        "task:05"
      ],
      "metadata": {
        "id": "8wlozXxhJ9SH"
      }
    },
    {
      "cell_type": "code",
      "source": [
        "inp = open('input5.txt','r')\n",
        "out = open('output5.txt','w')\n",
        "n, m, d = map(int, inp.readline().strip().split(\" \"))\n",
        "\n",
        "adjList = []\n",
        "for i in range(n+1):\n",
        "    adjList.append([])\n",
        "\n",
        "for j in range(m):\n",
        "    n1, n2 = map(int, inp.readline().strip().split(\" \"))\n",
        "    adjList[n1] += [n2]\n",
        "    adjList[n2] += [n1]\n",
        "\n",
        "def BFS(adjL, s):\n",
        "    queue = []\n",
        "    visited = [0]*len(adjL)\n",
        "    dequeue = []\n",
        "    queue.append(s)\n",
        "    visited[s] = 1\n",
        "    while len(queue)!=0:\n",
        "        node = queue.pop(0)\n",
        "        dequeue.append(node)\n",
        "        for i in range(len(adjL[node])):\n",
        "            k = visited[node] + 1\n",
        "            if visited[adjL[node][i]] == 0:\n",
        "                visited[adjL[node][i]] = k\n",
        "                queue.append(adjL[node][i])\n",
        "    return visited\n",
        "    \n",
        "Path = BFS(adjList, 1)\n",
        "\n",
        "def pathFinder(adjL, path, d):\n",
        "    time = 0\n",
        "    w = path[d]\n",
        "    shortestP = [d]\n",
        "    while w > 1:\n",
        "        lst = adjL[d]\n",
        "        for i in range(len(lst)):\n",
        "            if path[lst[i]] <= w:\n",
        "                w = path[lst[i]]\n",
        "                d = lst[i]\n",
        "        shortestP.append(d)\n",
        "        time += 1\n",
        "    return shortestP, time\n",
        "\n",
        "result = pathFinder(adjList, Path, d)\n",
        "\n",
        "print(f\"Time: {result[1]}\", file = out)\n",
        "st = \"Shortest Path: \"\n",
        "for i in range(len(result[0])):\n",
        "    if i <= len(result[0]) - 2:\n",
        "        st += str(result[0][-i-1]) + \", \"\n",
        "    else:\n",
        "        st += str(result[0][-i-1])\n",
        "print(st, file = out)\n",
        "\n",
        "\n",
        "\n",
        "inp.close()\n",
        "out.close()"
      ],
      "metadata": {
        "id": "7aJevjTOJ9eL"
      },
      "execution_count": 9,
      "outputs": []
    },
    {
      "cell_type": "markdown",
      "source": [
        "task:06"
      ],
      "metadata": {
        "id": "2Qrybj9YKkD2"
      }
    },
    {
      "cell_type": "code",
      "source": [
        "inp = open(\"input6.txt\", mode =  'r')\n",
        "out = open(\"output6.txt\", mode =  'w')\n",
        "line1 = inp.readline()\n",
        "first, second = map(int, line1.split())\n",
        "g_lines = [inp.readline() for _ in range(first)]\n",
        "def maxDiamond(grid, row, column):\n",
        "    maximum = 0\n",
        "    for i in range(row):\n",
        "      for j in range(column):\n",
        "        if grid[i][j] == 'D':\n",
        "            diamonds = 0\n",
        "            done = set()\n",
        "            temp = [(i, j)]\n",
        "            while temp:\n",
        "                start, end = temp.pop()\n",
        "                if (start, end) in done or grid[start][end] == '#':\n",
        "                    continue\n",
        "                done.add((start, end))\n",
        "                if grid[start][end] == 'D':\n",
        "                    diamonds += 1\n",
        "                if start > 0:\n",
        "                    temp.append((start-1, end))\n",
        "                if end > 0:\n",
        "                    temp.append((start, end-1))\n",
        "                if end < column-1:\n",
        "                    temp.append((start, end+1))\n",
        "                if start < row-1:\n",
        "                    temp.append((start+1, end))\n",
        "            max_diamonds = max(maximum, diamonds)\n",
        "    return max_diamonds\n",
        "\n",
        "print(maxDiamond(g_lines, first, second), file = out)\n",
        "\n",
        "inp.close()\n",
        "out.close()"
      ],
      "metadata": {
        "id": "KElpup9HKlF6"
      },
      "execution_count": 20,
      "outputs": []
    }
  ]
}