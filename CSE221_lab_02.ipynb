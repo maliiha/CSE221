{
  "nbformat": 4,
  "nbformat_minor": 0,
  "metadata": {
    "colab": {
      "provenance": [],
      "authorship_tag": "ABX9TyPU9FxEBmN9J6f44dV50oDV",
      "include_colab_link": true
    },
    "kernelspec": {
      "name": "python3",
      "display_name": "Python 3"
    },
    "language_info": {
      "name": "python"
    }
  },
  "cells": [
    {
      "cell_type": "markdown",
      "metadata": {
        "id": "view-in-github",
        "colab_type": "text"
      },
      "source": [
        "<a href=\"https://colab.research.google.com/github/maliiha/CSE221/blob/main/CSE221_lab_02.ipynb\" target=\"_parent\"><img src=\"https://colab.research.google.com/assets/colab-badge.svg\" alt=\"Open In Colab\"/></a>"
      ]
    },
    {
      "cell_type": "markdown",
      "source": [
        "TASK:01 (a)"
      ],
      "metadata": {
        "id": "5ZsIKaVXma7F"
      }
    },
    {
      "cell_type": "code",
      "source": [
        "test_file = open (\"/content/input1.txt\",mode=\"r\")\n",
        "result_file = open(\"/content/output1.txt\",mode=\"w\")\n",
        "first_line = test_file.readline()\n",
        "section = first_line.split(\" \")\n",
        "number = int(section[0])\n",
        "summ = int(section[1])\n",
        "second_line = test_file.readline()\n",
        "digits = second_line.split(\" \")\n",
        "found = False\n",
        "first = 1\n",
        "second = 1\n",
        "for i in range(number):\n",
        "  for j in range(len(digits)):\n",
        "    if(i!=j and found == False):\n",
        "      if(int(digits[i])+int(digits[j])==summ):\n",
        "        first += int(i)\n",
        "        second += int(j)\n",
        "        found = True\n",
        "if found == True:\n",
        "  print(first , second , file=result_file)\n",
        "else:\n",
        "  print(\"IMPOSSIBLE\" , file=result_file)\n",
        "result_file.close()"
      ],
      "metadata": {
        "id": "3GQJ1UH1mbda"
      },
      "execution_count": null,
      "outputs": []
    },
    {
      "cell_type": "markdown",
      "source": [
        "\n",
        "TASK:01 (b)"
      ],
      "metadata": {
        "id": "VMRMoLU1oHDQ"
      }
    },
    {
      "cell_type": "code",
      "source": [
        "test_file = open (\"/content/input1.txt\",mode=\"r\")\n",
        "result_file = open(\"/content/output1.txt\",mode=\"w\")\n",
        "first_line = list(map(int,test_file.readline().strip().split()))\n",
        "second_line = list(map(int,test_file.readline().strip().split()))\n",
        "number = first_line [0]\n",
        "summ = first_line[1]\n",
        "found = True\n",
        "dic={}\n",
        "for i in range(number):\n",
        "   x=summ-second_line[i]\n",
        "   if x not in dic:\n",
        "      dic[second_line[i]]=i+1\n",
        "   elif x in  dic:\n",
        "      idx1=dic[x] \n",
        "      found=False\n",
        "      break  \n",
        "if found==True:\n",
        "   print('Impossible',file=result_file) \n",
        "else:\n",
        "   print(idx1,i+1,file=result_file)\n",
        "result_file.close()"
      ],
      "metadata": {
        "id": "Nx69imhroIzi"
      },
      "execution_count": null,
      "outputs": []
    },
    {
      "cell_type": "markdown",
      "source": [
        "TASK:02 (a)"
      ],
      "metadata": {
        "id": "TViruig219E9"
      }
    },
    {
      "cell_type": "code",
      "source": [
        "test_file=open('/content/input2(a).txt',mode ='r')\n",
        "result_file= open('/content/output2(a).txt',mode ='w')\n",
        "first_line=int(test_file.readline())\n",
        "list1=list(map(int,test_file.readline().strip().split()))\n",
        "second_line=int(test_file.readline())\n",
        "list2=list(map(int,test_file.readline().strip().split()))\n",
        "list1.extend(list2)\n",
        "list3=sorted(list1)\n",
        "file1 = '/content/output2(a).txt'\n",
        "with open(file1, mode =\"w\") as file:\n",
        "    file.write(str(list3))"
      ],
      "metadata": {
        "id": "C7uny_Mt2BuG"
      },
      "execution_count": 10,
      "outputs": []
    },
    {
      "cell_type": "markdown",
      "source": [
        "TASK:02 (b)"
      ],
      "metadata": {
        "id": "NtIA53QC-M5U"
      }
    },
    {
      "cell_type": "code",
      "source": [
        "file2=open('/content/input2(a).txt','r')\n",
        "n1=int(file2.readline())\n",
        "lst1=list(map(int,file2.readline().strip().split()))\n",
        "n2=int(file2.readline())\n",
        "lst2=list(map(int,file2.readline().strip().split()))\n",
        "i=0\n",
        "j=0\n",
        "lst3=[]\n",
        "while i<n1 and j<n2:\n",
        "   if lst1[i]<lst2[j]:\n",
        "      lst3.append(lst1[i])\n",
        "      i=i+1\n",
        "   elif lst2[j]<lst1[i]:\n",
        "      lst3.append(lst2[j])\n",
        "      j=j+1\n",
        "if i<j:\n",
        "  lst3.extend(lst1[i::])\n",
        "elif j<i:\n",
        "  lst3.extend(lst2[j::])\n",
        "elif i==j:\n",
        "  if len(lst1)-i!=0:\n",
        "      lst3.extend(lst1[i::])\n",
        "  if len(lst2)-j!=0:\n",
        "      lst3.extend(lst2[j::])\n",
        "\n",
        "filename = '/content/output2(b).txt'\n",
        "with open(filename, \"w\") as file:\n",
        "    file.write(str(lst3))"
      ],
      "metadata": {
        "id": "hdXV07uv-QvW"
      },
      "execution_count": 5,
      "outputs": []
    }
  ]
}