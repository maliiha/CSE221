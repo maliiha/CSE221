{
  "nbformat": 4,
  "nbformat_minor": 0,
  "metadata": {
    "colab": {
      "provenance": [],
      "authorship_tag": "ABX9TyOuWBEuFY+guT/GOljVg69C",
      "include_colab_link": true
    },
    "kernelspec": {
      "name": "python3",
      "display_name": "Python 3"
    },
    "language_info": {
      "name": "python"
    }
  },
  "cells": [
    {
      "cell_type": "markdown",
      "metadata": {
        "id": "view-in-github",
        "colab_type": "text"
      },
      "source": [
        "<a href=\"https://colab.research.google.com/github/maliiha/CSE221/blob/main/CSE221_LAB03.ipynb\" target=\"_parent\"><img src=\"https://colab.research.google.com/assets/colab-badge.svg\" alt=\"Open In Colab\"/></a>"
      ]
    },
    {
      "cell_type": "markdown",
      "source": [
        "# TASK:01 (i)"
      ],
      "metadata": {
        "id": "ZJIPcnh-0Xz0"
      }
    },
    {
      "cell_type": "code",
      "source": [
        "test_file = open(\"/content/input1(i).txt\", mode = \"r\")\n",
        "result_file = open(\"/content/output1(i).txt\", mode = \"w\")\n",
        "list1=(test_file.readline())\n",
        "list1= [int(x.strip()) for x in list1.split(\" \") if x]\n",
        "def quickSort(arr,low,high):\n",
        "  if(low < high):\n",
        "    pi= partition (arr,low,high)\n",
        "    quickSort(arr,low, pi-1)\n",
        "    quickSort(arr,pi+1,high)\n",
        "  return arr\n",
        "def partition(arr,low, high):\n",
        "  pivot = arr[high]\n",
        "  y = low - 1\n",
        "  for i in range(low,high):\n",
        "    if(arr[i]<=pivot):\n",
        "      y+=1\n",
        "      arr[i],arr[y] = arr[y] , arr[i]\n",
        "  arr[y+1],arr[high] = arr[high] , arr[y+1]\n",
        "  return (y+1)\n",
        "n = partition(list1 , 0 ,len(list1)-1)\n",
        "sorted = quickSort(list1 , 0 , len(list1)-1)\n",
        "result_file.write(' '.join(str(x) for x in sorted))\n",
        "test_file.close()\n",
        "result_file.close()"
      ],
      "metadata": {
        "id": "lulPwY8B0YPJ"
      },
      "execution_count": 20,
      "outputs": []
    },
    {
      "cell_type": "markdown",
      "source": [
        "\n",
        "# TASK:01 (ii)"
      ],
      "metadata": {
        "id": "9a4o2QFd8ZtD"
      }
    },
    {
      "cell_type": "code",
      "source": [
        "test_file = open(\"/content/input1(ii).txt\", mode = \"r\")\n",
        "result_file = open(\"/content/output1(ii).txt\", mode = \"w\")\n",
        "list1=test_file.readline().split(':')[1]\n",
        "list1= [int(x) for x in list1.split()]\n",
        "line1= test_file.readlines()\n",
        "line1= [int(i.strip().split(\"=\")[-1]) for i in line1]\n",
        "def partition(arr,low, high):\n",
        "  pivot = arr[high]\n",
        "  y = low - 1\n",
        "  for i in range(low,high):\n",
        "    if(arr[i]<=pivot):\n",
        "      y+=1\n",
        "      arr[i],arr[y] = arr[y] , arr[i]\n",
        "  arr[y+1],arr[high] = arr[high] , arr[y+1]\n",
        "  return (y+1)\n",
        "def findK(arr, k):\n",
        "  low = 0\n",
        "  high = len(arr) - 1\n",
        "  while True:\n",
        "    pi = partition(arr, low, high)\n",
        "    if pi == k - 1:\n",
        "      return arr[pi]\n",
        "    elif pi > k - 1:\n",
        "      high = pi - 1\n",
        "    else:\n",
        "      low = pi + 1\n",
        "for idx in line1:\n",
        "  result_file.write(f'{findK(list1, idx)}\\n')\n",
        "test_file.close()\n",
        "result_file.close()"
      ],
      "metadata": {
        "id": "mf8Xnru88b2r"
      },
      "execution_count": 21,
      "outputs": []
    },
    {
      "cell_type": "markdown",
      "source": [
        "# TASK:02"
      ],
      "metadata": {
        "id": "aGoTwhIxMr9S"
      }
    },
    {
      "cell_type": "code",
      "source": [
        "class HeapArray():\n",
        "  def __init__(self, arr):\n",
        "    self.arr = arr\n",
        "    self.heap = [0]\n",
        "    self.size = 0\n",
        "    self.build()\n",
        "  def build(self):\n",
        "    for i in range(len(self.arr)):\n",
        "      self.add(self.arr[i])\n",
        "  def heapSort(self):\n",
        "    for i in range(len(self.arr)):\n",
        "      self.heap[1], self.heap[self.size] = self.heap[self.size], self.heap[1]\n",
        "      self.size -= 1\n",
        "      self.sink()\n",
        "      if self.size <= 1:\n",
        "        break\n",
        "  def add(self, element):\n",
        "    self.size += 1\n",
        "    self.heap.append(element)\n",
        "    self.heapify(self.size)\n",
        "  def heapify(self, idx):\n",
        "    cIdx = idx\n",
        "    pIdx = idx//2\n",
        "    if self.heap[cIdx] >= self.heap[pIdx] or pIdx == 0:\n",
        "      return\n",
        "    if self.heap[cIdx] < self.heap[pIdx]:\n",
        "      self.heap[cIdx], self.heap[pIdx] = self.heap[pIdx], self.heap[cIdx]\n",
        "    self.heapify(pIdx)\n",
        "  def delete(self):\n",
        "    self.heap[1], self.heap[self.size] = self.heap[self.size], self.heap[1]\n",
        "    self.heap.pop(self.size)\n",
        "    self.size -= 1\n",
        "    self.sink()\n",
        "  def sink(self, idx = 1):\n",
        "    pIdx = idx\n",
        "    LcIdx = 2*idx\n",
        "    RcIdx = 2*idx + 1\n",
        "    if RcIdx > self.size and LcIdx > self.size:\n",
        "      return\n",
        "    if RcIdx > self.size and LcIdx <= self.size:\n",
        "      if self.heap[pIdx] > self.heap[LcIdx]:\n",
        "        self.heap[pIdx], self.heap[LcIdx] = self.heap[LcIdx], self.heap[pIdx]\n",
        "        return\n",
        "      else:\n",
        "        return\n",
        "    if self.heap[LcIdx] <= self.heap[RcIdx]:\n",
        "      if self.heap[pIdx] <= self.heap[LcIdx]:\n",
        "        return\n",
        "      else:\n",
        "        idx = LcIdx\n",
        "        self.heap[pIdx], self.heap[LcIdx] = self.heap[LcIdx], self.heap[pIdx]\n",
        "    elif self.heap[RcIdx] <= self.heap[LcIdx]:\n",
        "      if self.heap[pIdx] <= self.heap[RcIdx]:\n",
        "        return\n",
        "      else:\n",
        "        idx = RcIdx \n",
        "        self.heap[pIdx], self.heap[RcIdx] = self.heap[RcIdx], self.heap[pIdx]\n",
        "    self.sink(idx)\n",
        "  def printArr(self):\n",
        "    return self.heap[1:]\n",
        "test_file = open(\"/content/input2.txt\",\"r\")\n",
        "result_file = open(\"/content/output2.txt\",\"w\")\n",
        "arr = list(map(int, test_file.readline().split(\" \")))\n",
        "heapArr = HeapArray(arr)\n",
        "print(\"Choose any one(A to add, B to delete, S to sort):\")\n",
        "x = input(\"Enter an option: \")\n",
        "if x == \"A\":\n",
        "  num = int(input(\"Enter a number: \"))\n",
        "  heapArr.add(num)\n",
        "  heapArr.heapSort()\n",
        "  print(heapArr.printArr(), file = result_file)\n",
        "elif x == \"B\":\n",
        "  heapArr.delete()\n",
        "  heapArr.heapSort()\n",
        "  print(heapArr.printArr(), file = result_file)\n",
        "elif x == \"S\":\n",
        "  heapArr.heapSort()\n",
        "  print(heapArr.printArr(), file = result_file)\n",
        "else:\n",
        "  print()\n",
        "  print(\"Your input is not in the given options\")\n",
        "  print()\n",
        "  print(\"Please, choose a correct option.\")\n",
        "  print()\n",
        "            \n",
        "test_file .close()\n",
        "result_file.close()"
      ],
      "metadata": {
        "id": "BQp1JMNMMvHV",
        "outputId": "95d33fe8-e700-4b5a-dfa0-47a3e4467892",
        "colab": {
          "base_uri": "https://localhost:8080/"
        }
      },
      "execution_count": 30,
      "outputs": [
        {
          "name": "stdout",
          "output_type": "stream",
          "text": [
            "Choose any one(A to add, B to delete, S to sort):\n",
            "Enter an option: B\n"
          ]
        }
      ]
    },
    {
      "cell_type": "markdown",
      "source": [
        "# TASK:03"
      ],
      "metadata": {
        "id": "u9p6FMq1Uz0p"
      }
    },
    {
      "cell_type": "markdown",
      "source": [
        "(A)"
      ],
      "metadata": {
        "id": "tFg9Cu3_U3zS"
      }
    },
    {
      "cell_type": "code",
      "source": [],
      "metadata": {
        "id": "eRi33mbnU10m"
      },
      "execution_count": null,
      "outputs": []
    }
  ]
}