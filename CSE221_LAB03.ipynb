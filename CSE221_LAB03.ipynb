{
  "nbformat": 4,
  "nbformat_minor": 0,
  "metadata": {
    "colab": {
      "provenance": [],
      "authorship_tag": "ABX9TyP9l96j6pGN5oGVyLXkTEJH",
      "include_colab_link": true
    },
    "kernelspec": {
      "name": "python3",
      "display_name": "Python 3"
    },
    "language_info": {
      "name": "python"
    }
  },
  "cells": [
    {
      "cell_type": "markdown",
      "metadata": {
        "id": "view-in-github",
        "colab_type": "text"
      },
      "source": [
        "<a href=\"https://colab.research.google.com/github/maliiha/CSE221/blob/main/CSE221_LAB03.ipynb\" target=\"_parent\"><img src=\"https://colab.research.google.com/assets/colab-badge.svg\" alt=\"Open In Colab\"/></a>"
      ]
    },
    {
      "cell_type": "markdown",
      "source": [
        "# TASK:01 (i)"
      ],
      "metadata": {
        "id": "ZJIPcnh-0Xz0"
      }
    },
    {
      "cell_type": "code",
      "source": [
        "test_file = open()"
      ],
      "metadata": {
        "id": "lulPwY8B0YPJ"
      },
      "execution_count": null,
      "outputs": []
    }
  ]
}