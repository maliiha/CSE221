{
  "nbformat": 4,
  "nbformat_minor": 0,
  "metadata": {
    "colab": {
      "provenance": [],
      "authorship_tag": "ABX9TyNhE0TfVn0IQVnVXKozFCgp",
      "include_colab_link": true
    },
    "kernelspec": {
      "name": "python3",
      "display_name": "Python 3"
    },
    "language_info": {
      "name": "python"
    }
  },
  "cells": [
    {
      "cell_type": "markdown",
      "metadata": {
        "id": "view-in-github",
        "colab_type": "text"
      },
      "source": [
        "<a href=\"https://colab.research.google.com/github/maliiha/CSE221/blob/main/CSE221_PRACTICE.ipynb\" target=\"_parent\"><img src=\"https://colab.research.google.com/assets/colab-badge.svg\" alt=\"Open In Colab\"/></a>"
      ]
    },
    {
      "cell_type": "markdown",
      "source": [
        "# LAB : 01"
      ],
      "metadata": {
        "id": "Ma6NXZJHqoeJ"
      }
    },
    {
      "cell_type": "code",
      "source": [
        "input_file = open(\"/content/task1.txt\" , \"r\")\n",
        "print(input_file)"
      ],
      "metadata": {
        "colab": {
          "base_uri": "https://localhost:8080/"
        },
        "id": "oWDPzH_PqwUx",
        "outputId": "61fda60b-6844-4469-8d1e-786d64e92524"
      },
      "execution_count": null,
      "outputs": [
        {
          "output_type": "stream",
          "name": "stdout",
          "text": [
            "<_io.TextIOWrapper name='/content/task1.txt' mode='r' encoding='UTF-8'>\n"
          ]
        }
      ]
    },
    {
      "cell_type": "code",
      "source": [
        "input_file = open(\"/content/task1.txt\" , \"r\")\n",
        "v = input_file.read()      #....gives output in string....#\n",
        "print(v)\n",
        "lines = v.split(\"\\n\")\n",
        "print(lines)\n",
        "list1 = []\n",
        "for i in lines:\n",
        "  list1.append(int(i))\n",
        "print(list1)"
      ],
      "metadata": {
        "colab": {
          "base_uri": "https://localhost:8080/"
        },
        "id": "QpzEgOCP3MJO",
        "outputId": "84095575-0f00-41b9-f9b8-f39815a0d4bc"
      },
      "execution_count": null,
      "outputs": [
        {
          "output_type": "stream",
          "name": "stdout",
          "text": [
            "5\n",
            "10\n",
            "19\n",
            "7\n",
            "3\n",
            "100\n",
            "['5', '10', '19', '7', '3', '100']\n",
            "[5, 10, 19, 7, 3, 100]\n"
          ]
        }
      ]
    },
    {
      "cell_type": "code",
      "source": [
        "input_file = open(\"/content/task1.txt\" , \"r\")\n",
        "v = input_file.read()\n",
        "list1 = list(map(int,v.split(\"\\n\") [0:]))\n",
        "print(list1)"
      ],
      "metadata": {
        "colab": {
          "base_uri": "https://localhost:8080/"
        },
        "id": "PQa3kpGI4e5j",
        "outputId": "d130eb72-81ed-4dfd-a720-b7d4f80fe0fa"
      },
      "execution_count": null,
      "outputs": [
        {
          "output_type": "stream",
          "name": "stdout",
          "text": [
            "[5, 10, 19, 7, 3, 100]\n"
          ]
        }
      ]
    },
    {
      "cell_type": "code",
      "source": [
        "input_file = open(\"/content/task1.txt\" , \"r\")\n",
        "output_file = open(\"/content/output_task1.txt\" , \"w\")\n",
        "# v = input_file.readlines()\n",
        "# print(v)\n",
        "T = int(input_file.readline())\n",
        "for i in range(T):\n",
        "  N = int(input_file.readline())\n",
        "  if ( N % 2 == 0):\n",
        "    output_file.write(f\"{N} is an even number.\\n\")\n",
        "  else:\n",
        "    output_file.write(f\"{N} is an odd number.\\n\")\n",
        "output_file.close()"
      ],
      "metadata": {
        "id": "1Plx7i_g-xXf"
      },
      "execution_count": null,
      "outputs": []
    },
    {
      "cell_type": "markdown",
      "source": [
        "\n",
        "# LAB : 02"
      ],
      "metadata": {
        "id": "_zoZkk9NJ8Qn"
      }
    },
    {
      "cell_type": "markdown",
      "source": [
        "task:02"
      ],
      "metadata": {
        "id": "HFpmhvTvJ_ke"
      }
    },
    {
      "cell_type": "markdown",
      "source": [
        "2.2"
      ],
      "metadata": {
        "id": "rpKQDTJEKM_2"
      }
    },
    {
      "cell_type": "code",
      "source": [
        "def merge_list( arr1 , arr2):\n",
        "  arr = [0] * (len(arr1) + len(arr2))\n",
        "  i = 0\n",
        "  j = 0\n",
        "  k = 0\n",
        "  while(i < len(arr1) and j < len(arr2)):\n",
        "    if(arr1[i] < arr2[j]):\n",
        "      arr[k] = arr1[i]\n",
        "      i+=1\n",
        "    else:\n",
        "      arr[k] = arr2[j]\n",
        "      j+=1\n",
        "    k+=1\n",
        "  while (i < len(arr1)):\n",
        "    arr[k] = arr1[i]\n",
        "    i+=1\n",
        "    k+=1\n",
        "  while (j < len(arr2)):\n",
        "    arr[k] = arr2[j]\n",
        "    j+=1\n",
        "    k+=1\n",
        "  return arr\n",
        "arr1 = [1, 3, 5, 7]\n",
        "arr2 = [2, 2, 4, 8]\n",
        "list1 = merge_list(arr1 , arr2)"
      ],
      "metadata": {
        "id": "PsU49A_7Jo-I"
      },
      "execution_count": null,
      "outputs": []
    },
    {
      "cell_type": "markdown",
      "source": [
        "task:03"
      ],
      "metadata": {
        "id": "Oss_nCl0KZYW"
      }
    },
    {
      "cell_type": "code",
      "source": [
        "def mergeSort(arr):\n",
        "  if len(arr) <= 1:\n",
        "    return arr\n",
        "  else:\n",
        "    mid = len(arr)//2\n",
        "    left = arr[:mid]\n",
        "    right = arr[mid:]\n",
        "    a1 = mergeSort(left)\n",
        "    a2 = mergeSort(right)\n",
        "    return merge_list(a1, a2)\n",
        "arr = mergeSort([9, 5, 4, 6, 1, 3, 2, 9])\n",
        "print(arr)"
      ],
      "metadata": {
        "id": "oO2qPzinKao-",
        "outputId": "0c35626d-dcb4-42db-a3b1-48513e047a29",
        "colab": {
          "base_uri": "https://localhost:8080/"
        }
      },
      "execution_count": null,
      "outputs": [
        {
          "output_type": "stream",
          "name": "stdout",
          "text": [
            "[1, 2, 3, 4, 5, 6, 9, 9]\n"
          ]
        }
      ]
    },
    {
      "cell_type": "markdown",
      "source": [
        "# LAB : 03"
      ],
      "metadata": {
        "id": "GNN4mPqOKwEw"
      }
    },
    {
      "cell_type": "markdown",
      "source": [
        "Taask:03"
      ],
      "metadata": {
        "id": "kwTZKsSPKyjP"
      }
    },
    {
      "cell_type": "code",
      "source": [
        "def Quicksort(arr , start , end ):\n",
        "  if (start < end):\n",
        "    pivot_index = partition(arr, start , end)\n",
        "    Quicksort(arr , start , pivot_index - 1)\n",
        "    Quicksort(arr , pivot_index +1 , end)\n",
        "def partition(arr , start , end):\n",
        "  pivot = arr[end]\n",
        "  pivot_index = start\n",
        "  for i in range(start , end -1):\n",
        "    if(arr[i]<=pivot):\n",
        "      arr[i] , arr[pivot_index] = arr[pivot_index] , arr[i]\n",
        "      pivot_index+=1\n",
        "  arr[pivot_index] , arr[end] = arr[end] , arr[pivot_index]\n",
        "  return pivot_index\n",
        "arr = [9, 6, 5, 8, 2]\n",
        "y = Quicksort(arr , 0 , len(arr)-1)\n",
        "print(arr)"
      ],
      "metadata": {
        "id": "mV99FL3CK1MX",
        "outputId": "558b677d-317d-49df-d444-006083bb164c",
        "colab": {
          "base_uri": "https://localhost:8080/"
        }
      },
      "execution_count": null,
      "outputs": [
        {
          "output_type": "stream",
          "name": "stdout",
          "text": [
            "[2, 5, 6, 9, 8]\n"
          ]
        }
      ]
    },
    {
      "cell_type": "markdown",
      "source": [
        "# lab:04"
      ],
      "metadata": {
        "id": "7OMnoBUQ5U_2"
      }
    },
    {
      "cell_type": "code",
      "source": [
        "b = [[0]*(7) for i in range(7)]\n",
        "print(b)\n",
        "for j in range(len(b)):\n",
        "    print(b[j])"
      ],
      "metadata": {
        "id": "5TtesmEp5YyW",
        "outputId": "042b7d81-b692-463d-b880-d1b036c0ade0",
        "colab": {
          "base_uri": "https://localhost:8080/"
        }
      },
      "execution_count": null,
      "outputs": [
        {
          "output_type": "stream",
          "name": "stdout",
          "text": [
            "[[0, 0, 0, 0, 0, 0, 0], [0, 0, 0, 0, 0, 0, 0], [0, 0, 0, 0, 0, 0, 0], [0, 0, 0, 0, 0, 0, 0], [0, 0, 0, 0, 0, 0, 0], [0, 0, 0, 0, 0, 0, 0], [0, 0, 0, 0, 0, 0, 0]]\n",
            "[0, 0, 0, 0, 0, 0, 0]\n",
            "[0, 0, 0, 0, 0, 0, 0]\n",
            "[0, 0, 0, 0, 0, 0, 0]\n",
            "[0, 0, 0, 0, 0, 0, 0]\n",
            "[0, 0, 0, 0, 0, 0, 0]\n",
            "[0, 0, 0, 0, 0, 0, 0]\n",
            "[0, 0, 0, 0, 0, 0, 0]\n"
          ]
        }
      ]
    },
    {
      "cell_type": "code",
      "source": [
        "list1 = '''4 3\n",
        "1 3 8\n",
        "3 2 5\n",
        "1 4 2'''\n",
        "z = list1.split(\"\\n\")\n",
        "print(z)\n",
        "v,e = map(int , z[0].split())\n",
        "\n",
        "# list2 = list(map(int , z.split()))\n",
        "# print(list2)"
      ],
      "metadata": {
        "id": "LFFSgwzgBEC_",
        "outputId": "614c9e58-d345-4933-e5fe-719da0e88d34",
        "colab": {
          "base_uri": "https://localhost:8080/"
        }
      },
      "execution_count": null,
      "outputs": [
        {
          "output_type": "stream",
          "name": "stdout",
          "text": [
            "['4 3', '1 3 8', '3 2 5', '1 4 2']\n"
          ]
        }
      ]
    },
    {
      "cell_type": "code",
      "source": [
        "test_file = open (\"/content/input.txt\" , \"r\")\n",
        "result_file = open (\"/content/output.txt\" , \"w\")\n",
        "first , second = list(map(int , test_file.readline().split(\" \")))\n",
        "adjList = [[0]*(first+1) for i in range(first+1)]\n",
        "for j in range(second):\n",
        "    temp1 , temp2 = list(map(int , test_file.readline().split(\" \")))\n",
        "    adjList[first]+=[second]\n",
        "    adjList[second]+=[first]\n",
        "print(adjList)\n",
        "test_file.close()\n",
        "result_file.close()"
      ],
      "metadata": {
        "id": "EYUNWAQ3TQW5",
        "outputId": "acbdd9d4-fe4d-4a6d-c643-016d4d27f0f4",
        "colab": {
          "base_uri": "https://localhost:8080/"
        }
      },
      "execution_count": null,
      "outputs": [
        {
          "output_type": "stream",
          "name": "stdout",
          "text": [
            "[[0, 0, 0, 0, 0], [0, 0, 0, 0, 0], [0, 0, 0, 0, 0], [0, 0, 0, 0, 0, 4, 4, 4], [0, 0, 0, 0, 0, 3, 3, 3]]\n"
          ]
        }
      ]
    },
    {
      "cell_type": "markdown",
      "source": [
        "Assignment :01 Q5(A)\n"
      ],
      "metadata": {
        "id": "h84jm-mmN2Ts"
      }
    },
    {
      "cell_type": "code",
      "source": [
        "def binary_search(arr,low , high):\n",
        "    max_value = 0\n",
        "    while low < high:\n",
        "        mid = (low + high) //2\n",
        "        if(arr[mid] >= max_value):\n",
        "            max_value = arr[mid]\n",
        "            low = mid\n",
        "            if(arr[mid - 1] > max_value):\n",
        "                max_value = arr[mid -1]\n",
        "                continue\n",
        "        else:\n",
        "            high = mid - 1\n",
        "    return max_value\n",
        "arr = [1,3, 4, 5, 9, 6, 2, -1]\n",
        "temp = binary_search(arr, 0 , len(arr)-1)\n",
        "print(temp)"
      ],
      "metadata": {
        "id": "nORrneUUG75g",
        "outputId": "4ba1df9c-43f9-4fda-b488-fb4c52bd5160",
        "colab": {
          "base_uri": "https://localhost:8080/"
        }
      },
      "execution_count": null,
      "outputs": [
        {
          "output_type": "stream",
          "name": "stdout",
          "text": [
            "6\n"
          ]
        }
      ]
    },
    {
      "cell_type": "markdown",
      "source": [
        "# lab:05"
      ],
      "metadata": {
        "id": "O-01ho4iUgsj"
      }
    },
    {
      "cell_type": "code",
      "source": [
        "test_file = open (\"/content/input.txt\" , mode = \"r\")\n",
        "result_file = open (\"/content/output.txt\" , mode = \"w\")\n",
        "first , second = map(int, test_file.readline().split(\" \"))\n",
        "adjList = [[0]*(first+1) for i in range(first+1)]\n",
        "graph = [[] for i in range(first+1)]\n",
        "for j in range(second):\n",
        "    temp1 , temp2 = map(int , test_file.readline().split(\" \"))\n",
        "    graph[temp1].append(temp2)\n",
        "print(graph)"
      ],
      "metadata": {
        "id": "VMkHt41nUeVs",
        "outputId": "47d98b89-f8aa-4b0d-cde7-a4bdba8ce987",
        "colab": {
          "base_uri": "https://localhost:8080/"
        }
      },
      "execution_count": 8,
      "outputs": [
        {
          "output_type": "stream",
          "name": "stdout",
          "text": [
            "[[], [2], [3, 4], [1], [5], []]\n"
          ]
        }
      ]
    },
    {
      "cell_type": "code",
      "source": [],
      "metadata": {
        "id": "kRRBfNgYhKBq"
      },
      "execution_count": null,
      "outputs": []
    },
    {
      "cell_type": "code",
      "source": [],
      "metadata": {
        "id": "F9yJq6XnhKE9"
      },
      "execution_count": null,
      "outputs": []
    },
    {
      "cell_type": "code",
      "source": [],
      "metadata": {
        "id": "mO7IH5M7hKIG"
      },
      "execution_count": null,
      "outputs": []
    },
    {
      "cell_type": "code",
      "source": [],
      "metadata": {
        "id": "FGmG1b2EhKK9"
      },
      "execution_count": null,
      "outputs": []
    },
    {
      "cell_type": "code",
      "source": [],
      "metadata": {
        "id": "ks8DUX1leOrD"
      },
      "execution_count": null,
      "outputs": []
    },
    {
      "cell_type": "code",
      "source": [],
      "metadata": {
        "id": "3TWpZ2DoeOuL"
      },
      "execution_count": null,
      "outputs": []
    },
    {
      "cell_type": "code",
      "source": [],
      "metadata": {
        "id": "LriK8JK6eOxO"
      },
      "execution_count": null,
      "outputs": []
    },
    {
      "cell_type": "code",
      "source": [],
      "metadata": {
        "id": "BqjNHoADeyQc"
      },
      "execution_count": null,
      "outputs": []
    },
    {
      "cell_type": "code",
      "source": [],
      "metadata": {
        "id": "joeLf8gJeyTD"
      },
      "execution_count": null,
      "outputs": []
    },
    {
      "cell_type": "code",
      "source": [],
      "metadata": {
        "id": "paRh5M_0eyV8"
      },
      "execution_count": null,
      "outputs": []
    },
    {
      "cell_type": "code",
      "source": [],
      "metadata": {
        "id": "gktQiztYeyZE"
      },
      "execution_count": null,
      "outputs": []
    },
    {
      "cell_type": "code",
      "source": [],
      "metadata": {
        "id": "uM8_vg0Veyb7"
      },
      "execution_count": null,
      "outputs": []
    },
    {
      "cell_type": "code",
      "source": [],
      "metadata": {
        "id": "vUB8IiaSeyez"
      },
      "execution_count": null,
      "outputs": []
    },
    {
      "cell_type": "code",
      "source": [],
      "metadata": {
        "id": "xzrMCxc0eyhz"
      },
      "execution_count": null,
      "outputs": []
    },
    {
      "cell_type": "code",
      "source": [],
      "metadata": {
        "id": "GV_SJnZteykc"
      },
      "execution_count": null,
      "outputs": []
    },
    {
      "cell_type": "code",
      "source": [],
      "metadata": {
        "id": "T0YmJ2Roeynj"
      },
      "execution_count": null,
      "outputs": []
    },
    {
      "cell_type": "code",
      "source": [],
      "metadata": {
        "id": "t0CdGpTzeyuM"
      },
      "execution_count": null,
      "outputs": []
    },
    {
      "cell_type": "code",
      "source": [],
      "metadata": {
        "id": "D_tHcR_FeOz7"
      },
      "execution_count": null,
      "outputs": []
    },
    {
      "cell_type": "code",
      "source": [],
      "metadata": {
        "id": "xb89F6l-eO29"
      },
      "execution_count": null,
      "outputs": []
    },
    {
      "cell_type": "code",
      "source": [],
      "metadata": {
        "id": "7tdIuqs5eO57"
      },
      "execution_count": null,
      "outputs": []
    },
    {
      "cell_type": "code",
      "source": [],
      "metadata": {
        "id": "r0DJwR9NeO87"
      },
      "execution_count": null,
      "outputs": []
    },
    {
      "cell_type": "code",
      "source": [],
      "metadata": {
        "id": "csBcnw5CeO_r"
      },
      "execution_count": null,
      "outputs": []
    },
    {
      "cell_type": "code",
      "source": [],
      "metadata": {
        "id": "K-mZS2kNePCs"
      },
      "execution_count": null,
      "outputs": []
    },
    {
      "cell_type": "code",
      "source": [],
      "metadata": {
        "id": "5ND4HQa-ePFj"
      },
      "execution_count": null,
      "outputs": []
    },
    {
      "cell_type": "code",
      "source": [
        "def dfs(graph, node, visited, stack):\n",
        "    visited[node] = True\n",
        "    for neighbor in graph[node]:\n",
        "        if not visited[neighbor]:\n",
        "            dfs(graph, neighbor, visited, stack)\n",
        "    stack.append(node)\n",
        "\n",
        "def transpose_graph(graph):\n",
        "    transposed = {node: [] for node in graph}\n",
        "    for node in graph:\n",
        "        for neighbor in graph[node]:\n",
        "            transposed[neighbor].append(node)\n",
        "    return transposed\n",
        "\n",
        "def find_strongly_connected_components(graph, N):\n",
        "    visited = [False] * (N + 1)\n",
        "    stack = []\n",
        "    for i in range(1, N + 1):\n",
        "        if not visited[i]:\n",
        "            dfs(graph, i, visited, stack)\n",
        "\n",
        "    transposed_graph = transpose_graph(graph)\n",
        "\n",
        "    visited = [False] * (N + 1)\n",
        "    strongly_connected_components = []\n",
        "    while stack:\n",
        "        node = stack.pop()\n",
        "        if not visited[node]:\n",
        "            component = []\n",
        "            dfs(transposed_graph, node, visited, component)\n",
        "            strongly_connected_components.append(component)\n",
        "\n",
        "    return strongly_connected_components\n",
        "def solve_task_03():\n",
        "    with open(\"input.txt\", \"r\") as f:\n",
        "        N, M = map(int, f.readline().split())\n",
        "        graph = {i: [] for i in range(1, N + 1)}\n",
        "        for _ in range(M):\n",
        "            A, B = map(int, f.readline().split())\n",
        "            graph[A].append(B)\n",
        "\n",
        "    components = find_strongly_connected_components(graph, N)\n",
        "    with open(\"output_task03.txt\", \"w\") as f:\n",
        "        for component in components:\n",
        "            f.write(\" \".join(map(str, component)) + \"\\n\")\n",
        "\n",
        "if __name__ == \"__main__\":"
      ],
      "metadata": {
        "id": "-8Vz9rj6ePIL",
        "outputId": "ccccfed9-ab69-41a4-a8cd-7893e66992a2",
        "colab": {
          "base_uri": "https://localhost:8080/",
          "height": 130
        }
      },
      "execution_count": 1,
      "outputs": [
        {
          "output_type": "error",
          "ename": "SyntaxError",
          "evalue": "ignored",
          "traceback": [
            "\u001b[0;36m  File \u001b[0;32m\"<ipython-input-1-cb5fbbcf4bb5>\"\u001b[0;36m, line \u001b[0;32m47\u001b[0m\n\u001b[0;31m    if __name__ == \"__main__\":\u001b[0m\n\u001b[0m                              ^\u001b[0m\n\u001b[0;31mSyntaxError\u001b[0m\u001b[0;31m:\u001b[0m incomplete input\n"
          ]
        }
      ]
    }
  ]
}