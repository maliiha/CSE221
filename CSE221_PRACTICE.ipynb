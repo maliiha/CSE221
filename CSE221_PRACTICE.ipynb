{
  "nbformat": 4,
  "nbformat_minor": 0,
  "metadata": {
    "colab": {
      "provenance": [],
      "authorship_tag": "ABX9TyP2y64Iw9qJDIUjyeRunnjC",
      "include_colab_link": true
    },
    "kernelspec": {
      "name": "python3",
      "display_name": "Python 3"
    },
    "language_info": {
      "name": "python"
    }
  },
  "cells": [
    {
      "cell_type": "markdown",
      "metadata": {
        "id": "view-in-github",
        "colab_type": "text"
      },
      "source": [
        "<a href=\"https://colab.research.google.com/github/maliiha/CSE221/blob/main/CSE221_PRACTICE.ipynb\" target=\"_parent\"><img src=\"https://colab.research.google.com/assets/colab-badge.svg\" alt=\"Open In Colab\"/></a>"
      ]
    },
    {
      "cell_type": "markdown",
      "source": [
        "# LAB : 01"
      ],
      "metadata": {
        "id": "Ma6NXZJHqoeJ"
      }
    },
    {
      "cell_type": "code",
      "source": [
        "input_file = open(\"/content/task1.txt\" , \"r\")\n",
        "print(input_file)"
      ],
      "metadata": {
        "colab": {
          "base_uri": "https://localhost:8080/"
        },
        "id": "oWDPzH_PqwUx",
        "outputId": "61fda60b-6844-4469-8d1e-786d64e92524"
      },
      "execution_count": 1,
      "outputs": [
        {
          "output_type": "stream",
          "name": "stdout",
          "text": [
            "<_io.TextIOWrapper name='/content/task1.txt' mode='r' encoding='UTF-8'>\n"
          ]
        }
      ]
    },
    {
      "cell_type": "code",
      "source": [
        "input_file = open(\"/content/task1.txt\" , \"r\")\n",
        "v = input_file.read()      #....gives output in string....#\n",
        "print(v)\n",
        "lines = v.split(\"\\n\")\n",
        "print(lines)\n",
        "list1 = []\n",
        "for i in lines:\n",
        "  list1.append(int(i))\n",
        "print(list1)"
      ],
      "metadata": {
        "colab": {
          "base_uri": "https://localhost:8080/"
        },
        "id": "QpzEgOCP3MJO",
        "outputId": "84095575-0f00-41b9-f9b8-f39815a0d4bc"
      },
      "execution_count": 23,
      "outputs": [
        {
          "output_type": "stream",
          "name": "stdout",
          "text": [
            "5\n",
            "10\n",
            "19\n",
            "7\n",
            "3\n",
            "100\n",
            "['5', '10', '19', '7', '3', '100']\n",
            "[5, 10, 19, 7, 3, 100]\n"
          ]
        }
      ]
    },
    {
      "cell_type": "code",
      "source": [
        "input_file = open(\"/content/task1.txt\" , \"r\")\n",
        "v = input_file.read()  \n",
        "list1 = list(map(int,v.split(\"\\n\") [0:]))\n",
        "print(list1)"
      ],
      "metadata": {
        "colab": {
          "base_uri": "https://localhost:8080/"
        },
        "id": "PQa3kpGI4e5j",
        "outputId": "d130eb72-81ed-4dfd-a720-b7d4f80fe0fa"
      },
      "execution_count": 26,
      "outputs": [
        {
          "output_type": "stream",
          "name": "stdout",
          "text": [
            "[5, 10, 19, 7, 3, 100]\n"
          ]
        }
      ]
    },
    {
      "cell_type": "code",
      "source": [
        "input_file = open(\"/content/task1.txt\" , \"r\")\n",
        "output_file = open(\"/content/output_task1.txt\" , \"w\")\n",
        "# v = input_file.readlines()\n",
        "# print(v)\n",
        "T = int(input_file.readline())\n",
        "for i in range(T):\n",
        "  N = int(input_file.readline())\n",
        "  if ( N % 2 == 0):\n",
        "    output_file.write(f\"{N} is an even number.\\n\")\n",
        "  else:\n",
        "    output_file.write(f\"{N} is an odd number.\\n\")\n",
        "output_file.close()"
      ],
      "metadata": {
        "id": "1Plx7i_g-xXf"
      },
      "execution_count": null,
      "outputs": []
    }
  ]
}