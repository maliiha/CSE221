{
  "nbformat": 4,
  "nbformat_minor": 0,
  "metadata": {
    "colab": {
      "provenance": [],
      "authorship_tag": "ABX9TyM0KSyZzsCInwZA/q5JC2ls",
      "include_colab_link": true
    },
    "kernelspec": {
      "name": "python3",
      "display_name": "Python 3"
    },
    "language_info": {
      "name": "python"
    }
  },
  "cells": [
    {
      "cell_type": "markdown",
      "metadata": {
        "id": "view-in-github",
        "colab_type": "text"
      },
      "source": [
        "<a href=\"https://colab.research.google.com/github/maliiha/CSE221/blob/main/CSE221_PRACTICE.ipynb\" target=\"_parent\"><img src=\"https://colab.research.google.com/assets/colab-badge.svg\" alt=\"Open In Colab\"/></a>"
      ]
    },
    {
      "cell_type": "markdown",
      "source": [
        "# LAB : 01"
      ],
      "metadata": {
        "id": "Ma6NXZJHqoeJ"
      }
    },
    {
      "cell_type": "code",
      "source": [
        "input_file = open(\"/content/task1.txt\" , \"r\")\n",
        "print(input_file)"
      ],
      "metadata": {
        "colab": {
          "base_uri": "https://localhost:8080/"
        },
        "id": "oWDPzH_PqwUx",
        "outputId": "61fda60b-6844-4469-8d1e-786d64e92524"
      },
      "execution_count": null,
      "outputs": [
        {
          "output_type": "stream",
          "name": "stdout",
          "text": [
            "<_io.TextIOWrapper name='/content/task1.txt' mode='r' encoding='UTF-8'>\n"
          ]
        }
      ]
    },
    {
      "cell_type": "code",
      "source": [
        "input_file = open(\"/content/task1.txt\" , \"r\")\n",
        "v = input_file.read()      #....gives output in string....#\n",
        "print(v)\n",
        "lines = v.split(\"\\n\")\n",
        "print(lines)\n",
        "list1 = []\n",
        "for i in lines:\n",
        "  list1.append(int(i))\n",
        "print(list1)"
      ],
      "metadata": {
        "colab": {
          "base_uri": "https://localhost:8080/"
        },
        "id": "QpzEgOCP3MJO",
        "outputId": "84095575-0f00-41b9-f9b8-f39815a0d4bc"
      },
      "execution_count": null,
      "outputs": [
        {
          "output_type": "stream",
          "name": "stdout",
          "text": [
            "5\n",
            "10\n",
            "19\n",
            "7\n",
            "3\n",
            "100\n",
            "['5', '10', '19', '7', '3', '100']\n",
            "[5, 10, 19, 7, 3, 100]\n"
          ]
        }
      ]
    },
    {
      "cell_type": "code",
      "source": [
        "input_file = open(\"/content/task1.txt\" , \"r\")\n",
        "v = input_file.read()\n",
        "list1 = list(map(int,v.split(\"\\n\") [0:]))\n",
        "print(list1)"
      ],
      "metadata": {
        "colab": {
          "base_uri": "https://localhost:8080/"
        },
        "id": "PQa3kpGI4e5j",
        "outputId": "d130eb72-81ed-4dfd-a720-b7d4f80fe0fa"
      },
      "execution_count": null,
      "outputs": [
        {
          "output_type": "stream",
          "name": "stdout",
          "text": [
            "[5, 10, 19, 7, 3, 100]\n"
          ]
        }
      ]
    },
    {
      "cell_type": "code",
      "source": [
        "input_file = open(\"/content/task1.txt\" , \"r\")\n",
        "output_file = open(\"/content/output_task1.txt\" , \"w\")\n",
        "# v = input_file.readlines()\n",
        "# print(v)\n",
        "T = int(input_file.readline())\n",
        "for i in range(T):\n",
        "  N = int(input_file.readline())\n",
        "  if ( N % 2 == 0):\n",
        "    output_file.write(f\"{N} is an even number.\\n\")\n",
        "  else:\n",
        "    output_file.write(f\"{N} is an odd number.\\n\")\n",
        "output_file.close()"
      ],
      "metadata": {
        "id": "1Plx7i_g-xXf"
      },
      "execution_count": null,
      "outputs": []
    },
    {
      "cell_type": "markdown",
      "source": [
        "\n",
        "# LAB : 02"
      ],
      "metadata": {
        "id": "_zoZkk9NJ8Qn"
      }
    },
    {
      "cell_type": "markdown",
      "source": [
        "task:02"
      ],
      "metadata": {
        "id": "HFpmhvTvJ_ke"
      }
    },
    {
      "cell_type": "markdown",
      "source": [
        "2.2"
      ],
      "metadata": {
        "id": "rpKQDTJEKM_2"
      }
    },
    {
      "cell_type": "code",
      "source": [
        "def merge_list( arr1 , arr2):\n",
        "  arr = [0] * (len(arr1) + len(arr2))\n",
        "  i = 0\n",
        "  j = 0\n",
        "  k = 0\n",
        "  while(i < len(arr1) and j < len(arr2)):\n",
        "    if(arr1[i] < arr2[j]):\n",
        "      arr[k] = arr1[i]\n",
        "      i+=1\n",
        "    else:\n",
        "      arr[k] = arr2[j]\n",
        "      j+=1\n",
        "    k+=1\n",
        "  while (i < len(arr1)):\n",
        "    arr[k] = arr1[i]\n",
        "    i+=1\n",
        "    k+=1\n",
        "  while (j < len(arr2)):\n",
        "    arr[k] = arr2[j]\n",
        "    j+=1\n",
        "    k+=1\n",
        "  return arr\n",
        "arr1 = [1, 3, 5, 7]\n",
        "arr2 = [2, 2, 4, 8]\n",
        "list1 = merge_list(arr1 , arr2)"
      ],
      "metadata": {
        "id": "PsU49A_7Jo-I"
      },
      "execution_count": null,
      "outputs": []
    },
    {
      "cell_type": "markdown",
      "source": [
        "task:03"
      ],
      "metadata": {
        "id": "Oss_nCl0KZYW"
      }
    },
    {
      "cell_type": "code",
      "source": [
        "def mergeSort(arr):\n",
        "  if len(arr) <= 1:\n",
        "    return arr\n",
        "  else:\n",
        "    mid = len(arr)//2\n",
        "    left = arr[:mid]\n",
        "    right = arr[mid:]\n",
        "    a1 = mergeSort(left)\n",
        "    a2 = mergeSort(right)\n",
        "    return merge_list(a1, a2)\n",
        "arr = mergeSort([9, 5, 4, 6, 1, 3, 2, 9])\n",
        "print(arr)"
      ],
      "metadata": {
        "id": "oO2qPzinKao-",
        "outputId": "0c35626d-dcb4-42db-a3b1-48513e047a29",
        "colab": {
          "base_uri": "https://localhost:8080/"
        }
      },
      "execution_count": null,
      "outputs": [
        {
          "output_type": "stream",
          "name": "stdout",
          "text": [
            "[1, 2, 3, 4, 5, 6, 9, 9]\n"
          ]
        }
      ]
    },
    {
      "cell_type": "markdown",
      "source": [
        "# LAB : 03"
      ],
      "metadata": {
        "id": "GNN4mPqOKwEw"
      }
    },
    {
      "cell_type": "markdown",
      "source": [
        "Taask:03"
      ],
      "metadata": {
        "id": "kwTZKsSPKyjP"
      }
    },
    {
      "cell_type": "code",
      "source": [
        "def Quicksort(arr , start , end ):\n",
        "  if (start < end):\n",
        "    pivot_index = partition(arr, start , end)\n",
        "    Quicksort(arr , start , pivot_index - 1)\n",
        "    Quicksort(arr , pivot_index +1 , end)\n",
        "def partition(arr , start , end):\n",
        "  pivot = arr[end]\n",
        "  pivot_index = start\n",
        "  for i in range(start , end -1):\n",
        "    if(arr[i]<=pivot):\n",
        "      arr[i] , arr[pivot_index] = arr[pivot_index] , arr[i]\n",
        "      pivot_index+=1\n",
        "  arr[pivot_index] , arr[end] = arr[end] , arr[pivot_index]\n",
        "  return pivot_index\n",
        "arr = [9, 6, 5, 8, 2]\n",
        "y = Quicksort(arr , 0 , len(arr)-1)\n",
        "print(arr)"
      ],
      "metadata": {
        "id": "mV99FL3CK1MX",
        "outputId": "558b677d-317d-49df-d444-006083bb164c",
        "colab": {
          "base_uri": "https://localhost:8080/"
        }
      },
      "execution_count": 11,
      "outputs": [
        {
          "output_type": "stream",
          "name": "stdout",
          "text": [
            "[2, 5, 6, 9, 8]\n"
          ]
        }
      ]
    }
  ]
}