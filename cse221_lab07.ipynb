{
  "nbformat": 4,
  "nbformat_minor": 0,
  "metadata": {
    "colab": {
      "provenance": [],
      "authorship_tag": "ABX9TyMWgylTZO1iYATLe5Sfmz8w",
      "include_colab_link": true
    },
    "kernelspec": {
      "name": "python3",
      "display_name": "Python 3"
    },
    "language_info": {
      "name": "python"
    }
  },
  "cells": [
    {
      "cell_type": "markdown",
      "metadata": {
        "id": "view-in-github",
        "colab_type": "text"
      },
      "source": [
        "<a href=\"https://colab.research.google.com/github/maliiha/CSE221/blob/main/cse221_lab07.ipynb\" target=\"_parent\"><img src=\"https://colab.research.google.com/assets/colab-badge.svg\" alt=\"Open In Colab\"/></a>"
      ]
    },
    {
      "cell_type": "markdown",
      "source": [
        "task:01"
      ],
      "metadata": {
        "id": "Hl4rZz7pN8ET"
      }
    },
    {
      "cell_type": "code",
      "execution_count": null,
      "metadata": {
        "colab": {
          "base_uri": "https://localhost:8080/"
        },
        "outputId": "6cc0dccb-fa44-49df-db49-8c1cc41af4ba",
        "id": "Djdy8yyKN_HP"
      },
      "outputs": [
        {
          "output_type": "stream",
          "name": "stdout",
          "text": [
            "5\n",
            "1 2\n",
            "2 3\n",
            "3 4\n",
            "6 9\n",
            "9 10\n"
          ]
        }
      ],
      "source": [
        "test_file = open (\"/content/input1.txt\" , mode = \"r\")\n",
        "result_file = open (\"/content/output1.txt\" , mode = \"w\")\n",
        "line1 = int(test_file.readline())\n",
        "list1=[]\n",
        "for i in range(line1):\n",
        "  first , second = map(int,test_file.readline().strip().split(\" \"))\n",
        "  list1.append([second ,first])\n",
        "# print(list1)\n",
        "list1.sort()\n",
        "# print(list1)\n",
        "count = 1\n",
        "temp = list1[0]\n",
        "f1 = temp[::-1]\n",
        "ans = [f1]\n",
        "for j in range(line1 - 1):\n",
        "  for k in range(1 , line1):\n",
        "    if(list1[k][1] >= temp [0]):\n",
        "      count+=1\n",
        "      temp = list1[k]\n",
        "      out = temp[::-1]\n",
        "      ans.append(out)\n",
        "print(count)\n",
        "print(str(count), file = result_file)\n",
        "for x in ans:\n",
        "  print(str(x[0]) + \" \" + str(x[1]), file = result_file)\n",
        "  print(* x )\n",
        "test_file.close()\n",
        "result_file.close()"
      ]
    },
    {
      "cell_type": "markdown",
      "source": [
        "task:02"
      ],
      "metadata": {
        "id": "1gumkWIVOCVQ"
      }
    },
    {
      "cell_type": "code",
      "source": [
        "with open(\"/content/input2.txt\", \"r\") as f:\n",
        "    n, m = map(int, f.readline().split())\n",
        "    activities = []\n",
        "    for i in range(n):\n",
        "        s, e = map(int, f.readline().split())\n",
        "        activities.append((s, e))\n",
        "\n",
        "\n",
        "activities.sort(key=lambda x: x[0])\n",
        "\n",
        "count = 0\n",
        "end_times = [0] * m\n",
        "\n",
        "for s, e in activities:\n",
        "\n",
        "    earliest_finish_index = -1\n",
        "    for i in range(m):\n",
        "        if end_times[i] <= s:\n",
        "            if earliest_finish_index == -1 or end_times[i] < end_times[earliest_finish_index]:\n",
        "                earliest_finish_index = i\n",
        "\n",
        "    if earliest_finish_index != -1:\n",
        "        end_times[earliest_finish_index] = e\n",
        "        count += 1\n",
        "\n",
        "with open(\"/content/output2.txt\", \"w\") as f:\n",
        "    f.write(str(count))"
      ],
      "metadata": {
        "id": "Ln-Jd_h3e8Yy"
      },
      "execution_count": null,
      "outputs": []
    },
    {
      "cell_type": "markdown",
      "source": [
        "task:03"
      ],
      "metadata": {
        "id": "cv90ldgodCXb"
      }
    },
    {
      "cell_type": "code",
      "source": [
        "def find(parent, i):\n",
        "    if parent[i] == i:\n",
        "        return i\n",
        "    parent[i] = find(parent, parent[i])\n",
        "    return parent[i]\n",
        "\n",
        "def union(parent, size, i, j):\n",
        "    pi = find(parent, i)\n",
        "    pj = find(parent, j)\n",
        "    if pi == pj:\n",
        "        return size[pi]\n",
        "    if size[pi] < size[pj]:\n",
        "        pi, pj = pj, pi\n",
        "    parent[pj] = pi\n",
        "    size[pi] += size[pj]\n",
        "    return size[pi]\n",
        "\n",
        "with open('/content/input3.txt', 'r') as f:\n",
        "    n, k = map(int, f.readline().split())\n",
        "    parent = list(range(n))\n",
        "    size = [1] * n\n",
        "\n",
        "    with open('/content/output3.txt', 'w') as out:\n",
        "        for _ in range(k):\n",
        "            a, b = map(int, f.readline().split())\n",
        "            out.write(str(union(parent, size, a-1, b-1)) + '\\n')"
      ],
      "metadata": {
        "id": "YeYYexUJdw9i"
      },
      "execution_count": null,
      "outputs": []
    }
  ]
}